{
 "cells": [
  {
   "cell_type": "code",
   "execution_count": 1,
   "metadata": {
    "pycharm": {
     "name": "#%%\n"
    }
   },
   "outputs": [],
   "source": [
    "import time\n",
    "from game import Hand\n",
    "from game import Wall\n",
    "from mahjong.hand_calculating.hand import HandCalculator, HandConfig\n",
    "\n",
    "c = HandCalculator()\n",
    "\n",
    "\n",
    "#hand.draw(w)\n",
    "#"
   ]
  },
  {
   "cell_type": "code",
   "execution_count": 2,
   "metadata": {
    "pycharm": {
     "name": "#%%\n"
    }
   },
   "outputs": [
    {
     "name": "stdout",
     "output_type": "stream",
     "text": [
      "Operation Time:\n",
      "118.04938913us/op\n",
      "Control Time\n",
      "17.30431656us/op\n",
      "Operation Rate\n",
      "9926.043770579221op/s\n"
     ]
    }
   ],
   "source": [
    "ops=1e5\n",
    "\n",
    "# Control Code\n",
    "k = 0\n",
    "cstart = time.time_ns()\n",
    "while k < ops:\n",
    "    k+=1\n",
    "    w = Wall()\n",
    "    hand = Hand(w)\n",
    "    hand.draw(w)\n",
    "\n",
    "\n",
    "cend = time.time_ns()\n",
    "\n",
    "# Test Code\n",
    "k = 0\n",
    "start = time.time_ns()\n",
    "while k < ops:\n",
    "    k+=1\n",
    "    w = Wall()\n",
    "    hand = Hand(w)\n",
    "    hand.draw(w)\n",
    "    res = c.estimate_hand_value(hand.hand,hand.pot_win_tile, config=HandConfig(is_tenhou=True))\n",
    "\n",
    "end = time.time_ns()\n",
    "\n",
    "print('Operation Time:')\n",
    "print(str((end-start)/(1e3*ops))+'us/op')\n",
    "print('Control Time')\n",
    "print(str((cend-cstart)/(1e3*ops))+'us/op')\n",
    "print('Operation Rate')\n",
    "print(str(1e9*ops/((end-start)-(cend-cstart)))+'op/s')"
   ]
  },
  {
   "cell_type": "code",
   "execution_count": null,
   "metadata": {},
   "outputs": [],
   "source": []
  }
 ],
 "metadata": {
  "kernelspec": {
   "display_name": "Python 3",
   "language": "python",
   "name": "python3"
  },
  "language_info": {
   "codemirror_mode": {
    "name": "ipython",
    "version": 3
   },
   "file_extension": ".py",
   "mimetype": "text/x-python",
   "name": "python",
   "nbconvert_exporter": "python",
   "pygments_lexer": "ipython3",
   "version": "3.8.5"
  }
 },
 "nbformat": 4,
 "nbformat_minor": 1
}
