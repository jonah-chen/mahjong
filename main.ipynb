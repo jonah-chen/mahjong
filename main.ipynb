{
 "cells": [
  {
   "cell_type": "code",
   "execution_count": 1,
   "metadata": {
    "pycharm": {
     "name": "#%%\n"
    }
   },
   "outputs": [],
   "source": [
    "import time\n",
    "from game import Hand\n",
    "from game import Wall\n",
    "from mahjong.hand_calculating.hand import HandCalculator, HandConfig\n",
    "from mahjong.shanten import Shanten\n",
    "from mahjong.tile import TilesConverter\n",
    "from mahjong.agari import Agari\n",
    "from mahjong.meld import Meld\n",
    "import mahjong.constants as const\n",
    "import numpy as np\n",
    "\n",
    "c = HandCalculator()\n",
    "st = Shanten()\n",
    "ag = Agari()"
   ]
  },
  {
   "cell_type": "code",
   "execution_count": 2,
   "metadata": {
    "pycharm": {
     "name": "#%%\n"
    }
   },
   "outputs": [],
   "source": [
    "w = Wall()\n",
    "h = Hand(w)\n",
    "h.draw(w)\n",
    "\n",
    "result = c.estimate_hand_value(h.hand, h.pot_win_tile)"
   ]
  },
  {
   "cell_type": "code",
   "execution_count": 3,
   "outputs": [],
   "source": [
    "while result.cost is None :\n",
    "    w = Wall()\n",
    "    h = Hand(w)\n",
    "    h.draw(w)\n",
    "\n",
    "    result = c.estimate_hand_value(h.hand, h.pot_win_tile, config=HandConfig(is_tsumo=True, player_wind=const.EAST))"
   ],
   "metadata": {
    "collapsed": false,
    "pycharm": {
     "name": "#%%\n"
    }
   }
  }
 ],
 "metadata": {
  "kernelspec": {
   "display_name": "Python 3",
   "language": "python",
   "name": "python3"
  },
  "language_info": {
   "codemirror_mode": {
    "name": "ipython",
    "version": 3
   },
   "file_extension": ".py",
   "mimetype": "text/x-python",
   "name": "python",
   "nbconvert_exporter": "python",
   "pygments_lexer": "ipython3",
   "version": "3.8.3"
  }
 },
 "nbformat": 4,
 "nbformat_minor": 1
}